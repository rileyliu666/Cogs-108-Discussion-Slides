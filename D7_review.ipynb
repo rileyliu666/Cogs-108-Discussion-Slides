{
 "cells": [
  {
   "cell_type": "markdown",
   "id": "8faa1e96",
   "metadata": {
    "id": "8faa1e96"
   },
   "source": [
    "# D7 Text Analysis: Step by Step"
   ]
  },
  {
   "cell_type": "code",
   "execution_count": 17,
   "id": "c3b4b223",
   "metadata": {
    "id": "c3b4b223"
   },
   "outputs": [],
   "source": [
    "import nltk\n",
    "from nltk.tokenize import word_tokenize\n",
    "from nltk.corpus import stopwords\n",
    "\n",
    "import re\n",
    "import pandas as pd\n",
    "\n",
    "from sklearn.feature_extraction.text import CountVectorizer, TfidfVectorizer"
   ]
  },
  {
   "cell_type": "code",
   "execution_count": 19,
   "id": "2405464d",
   "metadata": {},
   "outputs": [
    {
     "name": "stderr",
     "output_type": "stream",
     "text": [
      "[nltk_data] Downloading package punkt to /home/wah016/nltk_data...\n",
      "[nltk_data]   Unzipping tokenizers/punkt.zip.\n",
      "[nltk_data] Downloading package stopwords to /home/wah016/nltk_data...\n",
      "[nltk_data]   Unzipping corpora/stopwords.zip.\n"
     ]
    },
    {
     "data": {
      "text/plain": [
       "True"
      ]
     },
     "execution_count": 19,
     "metadata": {},
     "output_type": "execute_result"
    }
   ],
   "source": [
    "nltk.download('punkt')\n",
    "nltk.download('stopwords')"
   ]
  },
  {
   "cell_type": "markdown",
   "id": "cfe2e353",
   "metadata": {
    "id": "cfe2e353"
   },
   "source": [
    "### 1. Grab a corpus of documents (recipes)"
   ]
  },
  {
   "cell_type": "code",
   "execution_count": 33,
   "id": "1a14b961",
   "metadata": {
    "id": "1a14b961"
   },
   "outputs": [],
   "source": [
    "import json, urllib.request\n",
    "\n",
    "# Uses openrecipes\n",
    "data = urllib.request.urlopen(\"https://openrecipes.s3.amazonaws.com/openrecipes.txt\").read().decode(\"utf-8\")\n",
    "data_json = [json.loads(raw_text) for raw_text in data.split('\\n')[:-1]]\n",
    "documents = [f\"{recipe['name']}\\n{recipe['description']}\\n{recipe['ingredients']}\" for recipe in data_json]\n",
    "recipe_names = [recipe['name'] for recipe in data_json]"
   ]
  },
  {
   "cell_type": "code",
   "execution_count": 35,
   "id": "f4e0c776",
   "metadata": {},
   "outputs": [
    {
     "data": {
      "text/plain": [
       "list"
      ]
     },
     "execution_count": 35,
     "metadata": {},
     "output_type": "execute_result"
    }
   ],
   "source": [
    "type(documents)"
   ]
  },
  {
   "cell_type": "code",
   "execution_count": 21,
   "id": "e302f786",
   "metadata": {
    "id": "e302f786",
    "outputId": "9a3ac555-fee9-4e9a-aac2-4cd519cd2f6c"
   },
   "outputs": [
    {
     "data": {
      "text/plain": [
       "\"Easter Leftover Sandwich\\nGot leftover Easter eggs?    Got leftover Easter ham?    Got a hearty appetite?    Good! You've come to the right place!    I...\\n12 whole Hard Boiled Eggs\\n1/2 cup Mayonnaise\\n3 Tablespoons Grainy Dijon Mustard\\n Salt And Pepper, to taste\\n Several Dashes Worcestershire Sauce\\n Leftover Baked Ham, Sliced\\n Kaiser Rolls Or Other Bread\\n Extra Mayonnaise And Dijon, For Spreading\\n Swiss Cheese Or Other Cheese Slices\\n Thinly Sliced Red Onion\\n Avocado Slices\\n Sliced Tomatoes\\n Lettuce, Spinach, Or Arugula\""
      ]
     },
     "execution_count": 21,
     "metadata": {},
     "output_type": "execute_result"
    }
   ],
   "source": [
    "documents[0]"
   ]
  },
  {
   "cell_type": "code",
   "execution_count": 22,
   "id": "3d7d6f5f",
   "metadata": {
    "id": "3d7d6f5f",
    "outputId": "05be4cdc-5040-48bf-b84f-7ee82a2398ee"
   },
   "outputs": [
    {
     "data": {
      "text/plain": [
       "'Easter Leftover Sandwich'"
      ]
     },
     "execution_count": 22,
     "metadata": {},
     "output_type": "execute_result"
    }
   ],
   "source": [
    "recipe_names[0]"
   ]
  },
  {
   "cell_type": "code",
   "execution_count": 23,
   "id": "d30d5e0c",
   "metadata": {
    "id": "d30d5e0c",
    "outputId": "69ecf301-23da-42fc-fb67-c9894158158b"
   },
   "outputs": [
    {
     "name": "stdout",
     "output_type": "stream",
     "text": [
      "1042\n"
     ]
    }
   ],
   "source": [
    "print(len(documents))"
   ]
  },
  {
   "cell_type": "markdown",
   "id": "3136c2af",
   "metadata": {
    "id": "3136c2af"
   },
   "source": [
    "### 2. Clean up the documents to just be the words (remove punctuation, etc.)\n",
    "\n",
    "You don't really need to know Regex but this is basically getting anything that is *not* (`^`) lowercase letters (`a-z`) or numbers (`0-9`) and substituting it (`re.sub`) with a space (`' '`)."
   ]
  },
  {
   "cell_type": "code",
   "execution_count": 24,
   "id": "aff0225d",
   "metadata": {
    "id": "aff0225d",
    "outputId": "ab91b2c4-7a2b-4d6a-d982-46733dbc5754"
   },
   "outputs": [
    {
     "data": {
      "text/plain": [
       "'herb roasted pork tenderloin with preserves this was yummy and easy and pretty and it took basically no time to make before i share the recipe i ll just say it 2 whole pork tenderloins salt and pepper to taste 8 tablespoons herbs de provence more if needed 1 cup preserves fig peach plum 1 cup water 1 tablespoon vinegar'"
      ]
     },
     "execution_count": 24,
     "metadata": {},
     "output_type": "execute_result"
    }
   ],
   "source": [
    "clean = [re.sub(r'[^A-Za-z0-9]+', ' ', doc.lower()) for doc in documents]\n",
    "clean[2]"
   ]
  },
  {
   "cell_type": "markdown",
   "id": "243d99a2",
   "metadata": {
    "id": "243d99a2"
   },
   "source": [
    "### 3. Make a `TfidfVectorizer`"
   ]
  },
  {
   "cell_type": "code",
   "execution_count": 25,
   "id": "1f440ade",
   "metadata": {
    "id": "1f440ade"
   },
   "outputs": [],
   "source": [
    "tfidf = TfidfVectorizer(sublinear_tf=True, analyzer='word', tokenizer=word_tokenize)"
   ]
  },
  {
   "cell_type": "markdown",
   "id": "7bf52662",
   "metadata": {
    "id": "7bf52662"
   },
   "source": [
    "### 4. Fit the `TfidfVectorizer` to your corpus!"
   ]
  },
  {
   "cell_type": "code",
   "execution_count": 26,
   "id": "15e32756",
   "metadata": {
    "id": "15e32756"
   },
   "outputs": [],
   "source": [
    "fitted = tfidf.fit_transform(clean)"
   ]
  },
  {
   "cell_type": "code",
   "execution_count": 27,
   "id": "aa1e0071",
   "metadata": {
    "id": "aa1e0071",
    "outputId": "08b741cd-2b46-43b2-9c99-bd1fe7f601bd"
   },
   "outputs": [
    {
     "name": "stdout",
     "output_type": "stream",
     "text": [
      "(1042, 5392)\n"
     ]
    },
    {
     "data": {
      "text/plain": [
       "array([[0., 0., 0., ..., 0., 0., 0.],\n",
       "       [0., 0., 0., ..., 0., 0., 0.],\n",
       "       [0., 0., 0., ..., 0., 0., 0.],\n",
       "       ...,\n",
       "       [0., 0., 0., ..., 0., 0., 0.],\n",
       "       [0., 0., 0., ..., 0., 0., 0.],\n",
       "       [0., 0., 0., ..., 0., 0., 0.]])"
      ]
     },
     "execution_count": 27,
     "metadata": {},
     "output_type": "execute_result"
    }
   ],
   "source": [
    "print(fitted.shape)\n",
    "fitted.toarray()"
   ]
  },
  {
   "cell_type": "markdown",
   "id": "d8c38fa5",
   "metadata": {
    "id": "d8c38fa5"
   },
   "source": [
    "Looks like we've a big multidimensional array, one row for each document and one column for each word. Raw arrays are hard to work with. Let's make into a dataframe..."
   ]
  },
  {
   "cell_type": "code",
   "execution_count": 38,
   "id": "25175ab3",
   "metadata": {
    "id": "25175ab3"
   },
   "outputs": [],
   "source": [
    "df = pd.DataFrame(fitted.toarray())"
   ]
  },
  {
   "cell_type": "code",
   "execution_count": 39,
   "id": "d8d82319",
   "metadata": {
    "id": "d8d82319",
    "outputId": "aedff8f2-8dbc-4566-9b65-39df986de5b3"
   },
   "outputs": [
    {
     "data": {
      "text/html": [
       "<div>\n",
       "<style scoped>\n",
       "    .dataframe tbody tr th:only-of-type {\n",
       "        vertical-align: middle;\n",
       "    }\n",
       "\n",
       "    .dataframe tbody tr th {\n",
       "        vertical-align: top;\n",
       "    }\n",
       "\n",
       "    .dataframe thead th {\n",
       "        text-align: right;\n",
       "    }\n",
       "</style>\n",
       "<table border=\"1\" class=\"dataframe\">\n",
       "  <thead>\n",
       "    <tr style=\"text-align: right;\">\n",
       "      <th></th>\n",
       "      <th>0</th>\n",
       "      <th>1</th>\n",
       "      <th>2</th>\n",
       "      <th>3</th>\n",
       "      <th>4</th>\n",
       "      <th>5</th>\n",
       "      <th>6</th>\n",
       "      <th>7</th>\n",
       "      <th>8</th>\n",
       "      <th>9</th>\n",
       "      <th>...</th>\n",
       "      <th>5382</th>\n",
       "      <th>5383</th>\n",
       "      <th>5384</th>\n",
       "      <th>5385</th>\n",
       "      <th>5386</th>\n",
       "      <th>5387</th>\n",
       "      <th>5388</th>\n",
       "      <th>5389</th>\n",
       "      <th>5390</th>\n",
       "      <th>5391</th>\n",
       "    </tr>\n",
       "  </thead>\n",
       "  <tbody>\n",
       "    <tr>\n",
       "      <th>0</th>\n",
       "      <td>0.0</td>\n",
       "      <td>0.0</td>\n",
       "      <td>0.0</td>\n",
       "      <td>0.0</td>\n",
       "      <td>0.026766</td>\n",
       "      <td>0.0</td>\n",
       "      <td>0.0</td>\n",
       "      <td>0.0</td>\n",
       "      <td>0.0</td>\n",
       "      <td>0.0</td>\n",
       "      <td>...</td>\n",
       "      <td>0.0</td>\n",
       "      <td>0.0</td>\n",
       "      <td>0.0</td>\n",
       "      <td>0.000000</td>\n",
       "      <td>0.0</td>\n",
       "      <td>0.0</td>\n",
       "      <td>0.0</td>\n",
       "      <td>0.0</td>\n",
       "      <td>0.0</td>\n",
       "      <td>0.0</td>\n",
       "    </tr>\n",
       "    <tr>\n",
       "      <th>1</th>\n",
       "      <td>0.0</td>\n",
       "      <td>0.0</td>\n",
       "      <td>0.0</td>\n",
       "      <td>0.0</td>\n",
       "      <td>0.078998</td>\n",
       "      <td>0.0</td>\n",
       "      <td>0.0</td>\n",
       "      <td>0.0</td>\n",
       "      <td>0.0</td>\n",
       "      <td>0.0</td>\n",
       "      <td>...</td>\n",
       "      <td>0.0</td>\n",
       "      <td>0.0</td>\n",
       "      <td>0.0</td>\n",
       "      <td>0.000000</td>\n",
       "      <td>0.0</td>\n",
       "      <td>0.0</td>\n",
       "      <td>0.0</td>\n",
       "      <td>0.0</td>\n",
       "      <td>0.0</td>\n",
       "      <td>0.0</td>\n",
       "    </tr>\n",
       "    <tr>\n",
       "      <th>2</th>\n",
       "      <td>0.0</td>\n",
       "      <td>0.0</td>\n",
       "      <td>0.0</td>\n",
       "      <td>0.0</td>\n",
       "      <td>0.070055</td>\n",
       "      <td>0.0</td>\n",
       "      <td>0.0</td>\n",
       "      <td>0.0</td>\n",
       "      <td>0.0</td>\n",
       "      <td>0.0</td>\n",
       "      <td>...</td>\n",
       "      <td>0.0</td>\n",
       "      <td>0.0</td>\n",
       "      <td>0.0</td>\n",
       "      <td>0.000000</td>\n",
       "      <td>0.0</td>\n",
       "      <td>0.0</td>\n",
       "      <td>0.0</td>\n",
       "      <td>0.0</td>\n",
       "      <td>0.0</td>\n",
       "      <td>0.0</td>\n",
       "    </tr>\n",
       "    <tr>\n",
       "      <th>3</th>\n",
       "      <td>0.0</td>\n",
       "      <td>0.0</td>\n",
       "      <td>0.0</td>\n",
       "      <td>0.0</td>\n",
       "      <td>0.050195</td>\n",
       "      <td>0.0</td>\n",
       "      <td>0.0</td>\n",
       "      <td>0.0</td>\n",
       "      <td>0.0</td>\n",
       "      <td>0.0</td>\n",
       "      <td>...</td>\n",
       "      <td>0.0</td>\n",
       "      <td>0.0</td>\n",
       "      <td>0.0</td>\n",
       "      <td>0.000000</td>\n",
       "      <td>0.0</td>\n",
       "      <td>0.0</td>\n",
       "      <td>0.0</td>\n",
       "      <td>0.0</td>\n",
       "      <td>0.0</td>\n",
       "      <td>0.0</td>\n",
       "    </tr>\n",
       "    <tr>\n",
       "      <th>4</th>\n",
       "      <td>0.0</td>\n",
       "      <td>0.0</td>\n",
       "      <td>0.0</td>\n",
       "      <td>0.0</td>\n",
       "      <td>0.025719</td>\n",
       "      <td>0.0</td>\n",
       "      <td>0.0</td>\n",
       "      <td>0.0</td>\n",
       "      <td>0.0</td>\n",
       "      <td>0.0</td>\n",
       "      <td>...</td>\n",
       "      <td>0.0</td>\n",
       "      <td>0.0</td>\n",
       "      <td>0.0</td>\n",
       "      <td>0.000000</td>\n",
       "      <td>0.0</td>\n",
       "      <td>0.0</td>\n",
       "      <td>0.0</td>\n",
       "      <td>0.0</td>\n",
       "      <td>0.0</td>\n",
       "      <td>0.0</td>\n",
       "    </tr>\n",
       "    <tr>\n",
       "      <th>...</th>\n",
       "      <td>...</td>\n",
       "      <td>...</td>\n",
       "      <td>...</td>\n",
       "      <td>...</td>\n",
       "      <td>...</td>\n",
       "      <td>...</td>\n",
       "      <td>...</td>\n",
       "      <td>...</td>\n",
       "      <td>...</td>\n",
       "      <td>...</td>\n",
       "      <td>...</td>\n",
       "      <td>...</td>\n",
       "      <td>...</td>\n",
       "      <td>...</td>\n",
       "      <td>...</td>\n",
       "      <td>...</td>\n",
       "      <td>...</td>\n",
       "      <td>...</td>\n",
       "      <td>...</td>\n",
       "      <td>...</td>\n",
       "      <td>...</td>\n",
       "    </tr>\n",
       "    <tr>\n",
       "      <th>1037</th>\n",
       "      <td>0.0</td>\n",
       "      <td>0.0</td>\n",
       "      <td>0.0</td>\n",
       "      <td>0.0</td>\n",
       "      <td>0.069045</td>\n",
       "      <td>0.0</td>\n",
       "      <td>0.0</td>\n",
       "      <td>0.0</td>\n",
       "      <td>0.0</td>\n",
       "      <td>0.0</td>\n",
       "      <td>...</td>\n",
       "      <td>0.0</td>\n",
       "      <td>0.0</td>\n",
       "      <td>0.0</td>\n",
       "      <td>0.000000</td>\n",
       "      <td>0.0</td>\n",
       "      <td>0.0</td>\n",
       "      <td>0.0</td>\n",
       "      <td>0.0</td>\n",
       "      <td>0.0</td>\n",
       "      <td>0.0</td>\n",
       "    </tr>\n",
       "    <tr>\n",
       "      <th>1038</th>\n",
       "      <td>0.0</td>\n",
       "      <td>0.0</td>\n",
       "      <td>0.0</td>\n",
       "      <td>0.0</td>\n",
       "      <td>0.069190</td>\n",
       "      <td>0.0</td>\n",
       "      <td>0.0</td>\n",
       "      <td>0.0</td>\n",
       "      <td>0.0</td>\n",
       "      <td>0.0</td>\n",
       "      <td>...</td>\n",
       "      <td>0.0</td>\n",
       "      <td>0.0</td>\n",
       "      <td>0.0</td>\n",
       "      <td>0.000000</td>\n",
       "      <td>0.0</td>\n",
       "      <td>0.0</td>\n",
       "      <td>0.0</td>\n",
       "      <td>0.0</td>\n",
       "      <td>0.0</td>\n",
       "      <td>0.0</td>\n",
       "    </tr>\n",
       "    <tr>\n",
       "      <th>1039</th>\n",
       "      <td>0.0</td>\n",
       "      <td>0.0</td>\n",
       "      <td>0.0</td>\n",
       "      <td>0.0</td>\n",
       "      <td>0.081907</td>\n",
       "      <td>0.0</td>\n",
       "      <td>0.0</td>\n",
       "      <td>0.0</td>\n",
       "      <td>0.0</td>\n",
       "      <td>0.0</td>\n",
       "      <td>...</td>\n",
       "      <td>0.0</td>\n",
       "      <td>0.0</td>\n",
       "      <td>0.0</td>\n",
       "      <td>0.110562</td>\n",
       "      <td>0.0</td>\n",
       "      <td>0.0</td>\n",
       "      <td>0.0</td>\n",
       "      <td>0.0</td>\n",
       "      <td>0.0</td>\n",
       "      <td>0.0</td>\n",
       "    </tr>\n",
       "    <tr>\n",
       "      <th>1040</th>\n",
       "      <td>0.0</td>\n",
       "      <td>0.0</td>\n",
       "      <td>0.0</td>\n",
       "      <td>0.0</td>\n",
       "      <td>0.048618</td>\n",
       "      <td>0.0</td>\n",
       "      <td>0.0</td>\n",
       "      <td>0.0</td>\n",
       "      <td>0.0</td>\n",
       "      <td>0.0</td>\n",
       "      <td>...</td>\n",
       "      <td>0.0</td>\n",
       "      <td>0.0</td>\n",
       "      <td>0.0</td>\n",
       "      <td>0.000000</td>\n",
       "      <td>0.0</td>\n",
       "      <td>0.0</td>\n",
       "      <td>0.0</td>\n",
       "      <td>0.0</td>\n",
       "      <td>0.0</td>\n",
       "      <td>0.0</td>\n",
       "    </tr>\n",
       "    <tr>\n",
       "      <th>1041</th>\n",
       "      <td>0.0</td>\n",
       "      <td>0.0</td>\n",
       "      <td>0.0</td>\n",
       "      <td>0.0</td>\n",
       "      <td>0.062734</td>\n",
       "      <td>0.0</td>\n",
       "      <td>0.0</td>\n",
       "      <td>0.0</td>\n",
       "      <td>0.0</td>\n",
       "      <td>0.0</td>\n",
       "      <td>...</td>\n",
       "      <td>0.0</td>\n",
       "      <td>0.0</td>\n",
       "      <td>0.0</td>\n",
       "      <td>0.000000</td>\n",
       "      <td>0.0</td>\n",
       "      <td>0.0</td>\n",
       "      <td>0.0</td>\n",
       "      <td>0.0</td>\n",
       "      <td>0.0</td>\n",
       "      <td>0.0</td>\n",
       "    </tr>\n",
       "  </tbody>\n",
       "</table>\n",
       "<p>1042 rows × 5392 columns</p>\n",
       "</div>"
      ],
      "text/plain": [
       "      0     1     2     3         4     5     6     7     8     9     ...  \\\n",
       "0      0.0   0.0   0.0   0.0  0.026766   0.0   0.0   0.0   0.0   0.0  ...   \n",
       "1      0.0   0.0   0.0   0.0  0.078998   0.0   0.0   0.0   0.0   0.0  ...   \n",
       "2      0.0   0.0   0.0   0.0  0.070055   0.0   0.0   0.0   0.0   0.0  ...   \n",
       "3      0.0   0.0   0.0   0.0  0.050195   0.0   0.0   0.0   0.0   0.0  ...   \n",
       "4      0.0   0.0   0.0   0.0  0.025719   0.0   0.0   0.0   0.0   0.0  ...   \n",
       "...    ...   ...   ...   ...       ...   ...   ...   ...   ...   ...  ...   \n",
       "1037   0.0   0.0   0.0   0.0  0.069045   0.0   0.0   0.0   0.0   0.0  ...   \n",
       "1038   0.0   0.0   0.0   0.0  0.069190   0.0   0.0   0.0   0.0   0.0  ...   \n",
       "1039   0.0   0.0   0.0   0.0  0.081907   0.0   0.0   0.0   0.0   0.0  ...   \n",
       "1040   0.0   0.0   0.0   0.0  0.048618   0.0   0.0   0.0   0.0   0.0  ...   \n",
       "1041   0.0   0.0   0.0   0.0  0.062734   0.0   0.0   0.0   0.0   0.0  ...   \n",
       "\n",
       "      5382  5383  5384      5385  5386  5387  5388  5389  5390  5391  \n",
       "0      0.0   0.0   0.0  0.000000   0.0   0.0   0.0   0.0   0.0   0.0  \n",
       "1      0.0   0.0   0.0  0.000000   0.0   0.0   0.0   0.0   0.0   0.0  \n",
       "2      0.0   0.0   0.0  0.000000   0.0   0.0   0.0   0.0   0.0   0.0  \n",
       "3      0.0   0.0   0.0  0.000000   0.0   0.0   0.0   0.0   0.0   0.0  \n",
       "4      0.0   0.0   0.0  0.000000   0.0   0.0   0.0   0.0   0.0   0.0  \n",
       "...    ...   ...   ...       ...   ...   ...   ...   ...   ...   ...  \n",
       "1037   0.0   0.0   0.0  0.000000   0.0   0.0   0.0   0.0   0.0   0.0  \n",
       "1038   0.0   0.0   0.0  0.000000   0.0   0.0   0.0   0.0   0.0   0.0  \n",
       "1039   0.0   0.0   0.0  0.110562   0.0   0.0   0.0   0.0   0.0   0.0  \n",
       "1040   0.0   0.0   0.0  0.000000   0.0   0.0   0.0   0.0   0.0   0.0  \n",
       "1041   0.0   0.0   0.0  0.000000   0.0   0.0   0.0   0.0   0.0   0.0  \n",
       "\n",
       "[1042 rows x 5392 columns]"
      ]
     },
     "execution_count": 39,
     "metadata": {},
     "output_type": "execute_result"
    }
   ],
   "source": [
    "df"
   ]
  },
  {
   "cell_type": "markdown",
   "id": "46d816cf",
   "metadata": {
    "id": "46d816cf"
   },
   "source": [
    "This is still hard to make sense of. Let's make it more interpretable by assigning the columns to be the actual words they correspond to, and row indexes to the name of the recipe..."
   ]
  },
  {
   "cell_type": "code",
   "execution_count": 40,
   "id": "48453878",
   "metadata": {
    "id": "48453878"
   },
   "outputs": [],
   "source": [
    "df.columns = tfidf.get_feature_names()\n",
    "df.index = recipe_names"
   ]
  },
  {
   "cell_type": "code",
   "execution_count": 41,
   "id": "bf2d3f94",
   "metadata": {
    "id": "bf2d3f94",
    "outputId": "dfd418a5-9fed-4cd7-a31f-d7a55d161529"
   },
   "outputs": [
    {
     "data": {
      "text/html": [
       "<div>\n",
       "<style scoped>\n",
       "    .dataframe tbody tr th:only-of-type {\n",
       "        vertical-align: middle;\n",
       "    }\n",
       "\n",
       "    .dataframe tbody tr th {\n",
       "        vertical-align: top;\n",
       "    }\n",
       "\n",
       "    .dataframe thead th {\n",
       "        text-align: right;\n",
       "    }\n",
       "</style>\n",
       "<table border=\"1\" class=\"dataframe\">\n",
       "  <thead>\n",
       "    <tr style=\"text-align: right;\">\n",
       "      <th></th>\n",
       "      <th>0</th>\n",
       "      <th>000</th>\n",
       "      <th>03</th>\n",
       "      <th>0z</th>\n",
       "      <th>1</th>\n",
       "      <th>10</th>\n",
       "      <th>100</th>\n",
       "      <th>100g</th>\n",
       "      <th>101</th>\n",
       "      <th>105</th>\n",
       "      <th>...</th>\n",
       "      <th>zannie</th>\n",
       "      <th>zarubin</th>\n",
       "      <th>zero</th>\n",
       "      <th>zest</th>\n",
       "      <th>zested</th>\n",
       "      <th>zesty</th>\n",
       "      <th>zings</th>\n",
       "      <th>ziti</th>\n",
       "      <th>zucchini</th>\n",
       "      <th>zuppa</th>\n",
       "    </tr>\n",
       "  </thead>\n",
       "  <tbody>\n",
       "    <tr>\n",
       "      <th>Easter Leftover Sandwich</th>\n",
       "      <td>0.0</td>\n",
       "      <td>0.0</td>\n",
       "      <td>0.0</td>\n",
       "      <td>0.0</td>\n",
       "      <td>0.026766</td>\n",
       "      <td>0.0</td>\n",
       "      <td>0.0</td>\n",
       "      <td>0.0</td>\n",
       "      <td>0.0</td>\n",
       "      <td>0.0</td>\n",
       "      <td>...</td>\n",
       "      <td>0.0</td>\n",
       "      <td>0.0</td>\n",
       "      <td>0.0</td>\n",
       "      <td>0.000000</td>\n",
       "      <td>0.0</td>\n",
       "      <td>0.0</td>\n",
       "      <td>0.0</td>\n",
       "      <td>0.0</td>\n",
       "      <td>0.0</td>\n",
       "      <td>0.0</td>\n",
       "    </tr>\n",
       "    <tr>\n",
       "      <th>Pasta with Pesto Cream Sauce</th>\n",
       "      <td>0.0</td>\n",
       "      <td>0.0</td>\n",
       "      <td>0.0</td>\n",
       "      <td>0.0</td>\n",
       "      <td>0.078998</td>\n",
       "      <td>0.0</td>\n",
       "      <td>0.0</td>\n",
       "      <td>0.0</td>\n",
       "      <td>0.0</td>\n",
       "      <td>0.0</td>\n",
       "      <td>...</td>\n",
       "      <td>0.0</td>\n",
       "      <td>0.0</td>\n",
       "      <td>0.0</td>\n",
       "      <td>0.000000</td>\n",
       "      <td>0.0</td>\n",
       "      <td>0.0</td>\n",
       "      <td>0.0</td>\n",
       "      <td>0.0</td>\n",
       "      <td>0.0</td>\n",
       "      <td>0.0</td>\n",
       "    </tr>\n",
       "    <tr>\n",
       "      <th>Herb Roasted Pork Tenderloin with Preserves</th>\n",
       "      <td>0.0</td>\n",
       "      <td>0.0</td>\n",
       "      <td>0.0</td>\n",
       "      <td>0.0</td>\n",
       "      <td>0.070055</td>\n",
       "      <td>0.0</td>\n",
       "      <td>0.0</td>\n",
       "      <td>0.0</td>\n",
       "      <td>0.0</td>\n",
       "      <td>0.0</td>\n",
       "      <td>...</td>\n",
       "      <td>0.0</td>\n",
       "      <td>0.0</td>\n",
       "      <td>0.0</td>\n",
       "      <td>0.000000</td>\n",
       "      <td>0.0</td>\n",
       "      <td>0.0</td>\n",
       "      <td>0.0</td>\n",
       "      <td>0.0</td>\n",
       "      <td>0.0</td>\n",
       "      <td>0.0</td>\n",
       "    </tr>\n",
       "    <tr>\n",
       "      <th>Chicken Florentine Pasta</th>\n",
       "      <td>0.0</td>\n",
       "      <td>0.0</td>\n",
       "      <td>0.0</td>\n",
       "      <td>0.0</td>\n",
       "      <td>0.050195</td>\n",
       "      <td>0.0</td>\n",
       "      <td>0.0</td>\n",
       "      <td>0.0</td>\n",
       "      <td>0.0</td>\n",
       "      <td>0.0</td>\n",
       "      <td>...</td>\n",
       "      <td>0.0</td>\n",
       "      <td>0.0</td>\n",
       "      <td>0.0</td>\n",
       "      <td>0.000000</td>\n",
       "      <td>0.0</td>\n",
       "      <td>0.0</td>\n",
       "      <td>0.0</td>\n",
       "      <td>0.0</td>\n",
       "      <td>0.0</td>\n",
       "      <td>0.0</td>\n",
       "    </tr>\n",
       "    <tr>\n",
       "      <th>Perfect Iced Coffee</th>\n",
       "      <td>0.0</td>\n",
       "      <td>0.0</td>\n",
       "      <td>0.0</td>\n",
       "      <td>0.0</td>\n",
       "      <td>0.025719</td>\n",
       "      <td>0.0</td>\n",
       "      <td>0.0</td>\n",
       "      <td>0.0</td>\n",
       "      <td>0.0</td>\n",
       "      <td>0.0</td>\n",
       "      <td>...</td>\n",
       "      <td>0.0</td>\n",
       "      <td>0.0</td>\n",
       "      <td>0.0</td>\n",
       "      <td>0.000000</td>\n",
       "      <td>0.0</td>\n",
       "      <td>0.0</td>\n",
       "      <td>0.0</td>\n",
       "      <td>0.0</td>\n",
       "      <td>0.0</td>\n",
       "      <td>0.0</td>\n",
       "    </tr>\n",
       "    <tr>\n",
       "      <th>...</th>\n",
       "      <td>...</td>\n",
       "      <td>...</td>\n",
       "      <td>...</td>\n",
       "      <td>...</td>\n",
       "      <td>...</td>\n",
       "      <td>...</td>\n",
       "      <td>...</td>\n",
       "      <td>...</td>\n",
       "      <td>...</td>\n",
       "      <td>...</td>\n",
       "      <td>...</td>\n",
       "      <td>...</td>\n",
       "      <td>...</td>\n",
       "      <td>...</td>\n",
       "      <td>...</td>\n",
       "      <td>...</td>\n",
       "      <td>...</td>\n",
       "      <td>...</td>\n",
       "      <td>...</td>\n",
       "      <td>...</td>\n",
       "      <td>...</td>\n",
       "    </tr>\n",
       "    <tr>\n",
       "      <th>Golden Potstickers</th>\n",
       "      <td>0.0</td>\n",
       "      <td>0.0</td>\n",
       "      <td>0.0</td>\n",
       "      <td>0.0</td>\n",
       "      <td>0.069045</td>\n",
       "      <td>0.0</td>\n",
       "      <td>0.0</td>\n",
       "      <td>0.0</td>\n",
       "      <td>0.0</td>\n",
       "      <td>0.0</td>\n",
       "      <td>...</td>\n",
       "      <td>0.0</td>\n",
       "      <td>0.0</td>\n",
       "      <td>0.0</td>\n",
       "      <td>0.000000</td>\n",
       "      <td>0.0</td>\n",
       "      <td>0.0</td>\n",
       "      <td>0.0</td>\n",
       "      <td>0.0</td>\n",
       "      <td>0.0</td>\n",
       "      <td>0.0</td>\n",
       "    </tr>\n",
       "    <tr>\n",
       "      <th>Gougères</th>\n",
       "      <td>0.0</td>\n",
       "      <td>0.0</td>\n",
       "      <td>0.0</td>\n",
       "      <td>0.0</td>\n",
       "      <td>0.069190</td>\n",
       "      <td>0.0</td>\n",
       "      <td>0.0</td>\n",
       "      <td>0.0</td>\n",
       "      <td>0.0</td>\n",
       "      <td>0.0</td>\n",
       "      <td>...</td>\n",
       "      <td>0.0</td>\n",
       "      <td>0.0</td>\n",
       "      <td>0.0</td>\n",
       "      <td>0.000000</td>\n",
       "      <td>0.0</td>\n",
       "      <td>0.0</td>\n",
       "      <td>0.0</td>\n",
       "      <td>0.0</td>\n",
       "      <td>0.0</td>\n",
       "      <td>0.0</td>\n",
       "    </tr>\n",
       "    <tr>\n",
       "      <th>Parmesan Cheese Spread</th>\n",
       "      <td>0.0</td>\n",
       "      <td>0.0</td>\n",
       "      <td>0.0</td>\n",
       "      <td>0.0</td>\n",
       "      <td>0.081907</td>\n",
       "      <td>0.0</td>\n",
       "      <td>0.0</td>\n",
       "      <td>0.0</td>\n",
       "      <td>0.0</td>\n",
       "      <td>0.0</td>\n",
       "      <td>...</td>\n",
       "      <td>0.0</td>\n",
       "      <td>0.0</td>\n",
       "      <td>0.0</td>\n",
       "      <td>0.110562</td>\n",
       "      <td>0.0</td>\n",
       "      <td>0.0</td>\n",
       "      <td>0.0</td>\n",
       "      <td>0.0</td>\n",
       "      <td>0.0</td>\n",
       "      <td>0.0</td>\n",
       "    </tr>\n",
       "    <tr>\n",
       "      <th>Mast-o-Khiar Yogurt Dip</th>\n",
       "      <td>0.0</td>\n",
       "      <td>0.0</td>\n",
       "      <td>0.0</td>\n",
       "      <td>0.0</td>\n",
       "      <td>0.048618</td>\n",
       "      <td>0.0</td>\n",
       "      <td>0.0</td>\n",
       "      <td>0.0</td>\n",
       "      <td>0.0</td>\n",
       "      <td>0.0</td>\n",
       "      <td>...</td>\n",
       "      <td>0.0</td>\n",
       "      <td>0.0</td>\n",
       "      <td>0.0</td>\n",
       "      <td>0.000000</td>\n",
       "      <td>0.0</td>\n",
       "      <td>0.0</td>\n",
       "      <td>0.0</td>\n",
       "      <td>0.0</td>\n",
       "      <td>0.0</td>\n",
       "      <td>0.0</td>\n",
       "    </tr>\n",
       "    <tr>\n",
       "      <th>Fennel Mushrooms</th>\n",
       "      <td>0.0</td>\n",
       "      <td>0.0</td>\n",
       "      <td>0.0</td>\n",
       "      <td>0.0</td>\n",
       "      <td>0.062734</td>\n",
       "      <td>0.0</td>\n",
       "      <td>0.0</td>\n",
       "      <td>0.0</td>\n",
       "      <td>0.0</td>\n",
       "      <td>0.0</td>\n",
       "      <td>...</td>\n",
       "      <td>0.0</td>\n",
       "      <td>0.0</td>\n",
       "      <td>0.0</td>\n",
       "      <td>0.000000</td>\n",
       "      <td>0.0</td>\n",
       "      <td>0.0</td>\n",
       "      <td>0.0</td>\n",
       "      <td>0.0</td>\n",
       "      <td>0.0</td>\n",
       "      <td>0.0</td>\n",
       "    </tr>\n",
       "  </tbody>\n",
       "</table>\n",
       "<p>1042 rows × 5392 columns</p>\n",
       "</div>"
      ],
      "text/plain": [
       "                                               0  000   03   0z         1  \\\n",
       "Easter Leftover Sandwich                     0.0  0.0  0.0  0.0  0.026766   \n",
       "Pasta with Pesto Cream Sauce                 0.0  0.0  0.0  0.0  0.078998   \n",
       "Herb Roasted Pork Tenderloin with Preserves  0.0  0.0  0.0  0.0  0.070055   \n",
       "Chicken Florentine Pasta                     0.0  0.0  0.0  0.0  0.050195   \n",
       "Perfect Iced Coffee                          0.0  0.0  0.0  0.0  0.025719   \n",
       "...                                          ...  ...  ...  ...       ...   \n",
       "Golden Potstickers                           0.0  0.0  0.0  0.0  0.069045   \n",
       "Gougères                                     0.0  0.0  0.0  0.0  0.069190   \n",
       "Parmesan Cheese Spread                       0.0  0.0  0.0  0.0  0.081907   \n",
       "Mast-o-Khiar Yogurt Dip                      0.0  0.0  0.0  0.0  0.048618   \n",
       "Fennel Mushrooms                             0.0  0.0  0.0  0.0  0.062734   \n",
       "\n",
       "                                              10  100  100g  101  105  ...  \\\n",
       "Easter Leftover Sandwich                     0.0  0.0   0.0  0.0  0.0  ...   \n",
       "Pasta with Pesto Cream Sauce                 0.0  0.0   0.0  0.0  0.0  ...   \n",
       "Herb Roasted Pork Tenderloin with Preserves  0.0  0.0   0.0  0.0  0.0  ...   \n",
       "Chicken Florentine Pasta                     0.0  0.0   0.0  0.0  0.0  ...   \n",
       "Perfect Iced Coffee                          0.0  0.0   0.0  0.0  0.0  ...   \n",
       "...                                          ...  ...   ...  ...  ...  ...   \n",
       "Golden Potstickers                           0.0  0.0   0.0  0.0  0.0  ...   \n",
       "Gougères                                     0.0  0.0   0.0  0.0  0.0  ...   \n",
       "Parmesan Cheese Spread                       0.0  0.0   0.0  0.0  0.0  ...   \n",
       "Mast-o-Khiar Yogurt Dip                      0.0  0.0   0.0  0.0  0.0  ...   \n",
       "Fennel Mushrooms                             0.0  0.0   0.0  0.0  0.0  ...   \n",
       "\n",
       "                                             zannie  zarubin  zero      zest  \\\n",
       "Easter Leftover Sandwich                        0.0      0.0   0.0  0.000000   \n",
       "Pasta with Pesto Cream Sauce                    0.0      0.0   0.0  0.000000   \n",
       "Herb Roasted Pork Tenderloin with Preserves     0.0      0.0   0.0  0.000000   \n",
       "Chicken Florentine Pasta                        0.0      0.0   0.0  0.000000   \n",
       "Perfect Iced Coffee                             0.0      0.0   0.0  0.000000   \n",
       "...                                             ...      ...   ...       ...   \n",
       "Golden Potstickers                              0.0      0.0   0.0  0.000000   \n",
       "Gougères                                        0.0      0.0   0.0  0.000000   \n",
       "Parmesan Cheese Spread                          0.0      0.0   0.0  0.110562   \n",
       "Mast-o-Khiar Yogurt Dip                         0.0      0.0   0.0  0.000000   \n",
       "Fennel Mushrooms                                0.0      0.0   0.0  0.000000   \n",
       "\n",
       "                                             zested  zesty  zings  ziti  \\\n",
       "Easter Leftover Sandwich                        0.0    0.0    0.0   0.0   \n",
       "Pasta with Pesto Cream Sauce                    0.0    0.0    0.0   0.0   \n",
       "Herb Roasted Pork Tenderloin with Preserves     0.0    0.0    0.0   0.0   \n",
       "Chicken Florentine Pasta                        0.0    0.0    0.0   0.0   \n",
       "Perfect Iced Coffee                             0.0    0.0    0.0   0.0   \n",
       "...                                             ...    ...    ...   ...   \n",
       "Golden Potstickers                              0.0    0.0    0.0   0.0   \n",
       "Gougères                                        0.0    0.0    0.0   0.0   \n",
       "Parmesan Cheese Spread                          0.0    0.0    0.0   0.0   \n",
       "Mast-o-Khiar Yogurt Dip                         0.0    0.0    0.0   0.0   \n",
       "Fennel Mushrooms                                0.0    0.0    0.0   0.0   \n",
       "\n",
       "                                             zucchini  zuppa  \n",
       "Easter Leftover Sandwich                          0.0    0.0  \n",
       "Pasta with Pesto Cream Sauce                      0.0    0.0  \n",
       "Herb Roasted Pork Tenderloin with Preserves       0.0    0.0  \n",
       "Chicken Florentine Pasta                          0.0    0.0  \n",
       "Perfect Iced Coffee                               0.0    0.0  \n",
       "...                                               ...    ...  \n",
       "Golden Potstickers                                0.0    0.0  \n",
       "Gougères                                          0.0    0.0  \n",
       "Parmesan Cheese Spread                            0.0    0.0  \n",
       "Mast-o-Khiar Yogurt Dip                           0.0    0.0  \n",
       "Fennel Mushrooms                                  0.0    0.0  \n",
       "\n",
       "[1042 rows x 5392 columns]"
      ]
     },
     "execution_count": 41,
     "metadata": {},
     "output_type": "execute_result"
    }
   ],
   "source": [
    "df"
   ]
  },
  {
   "cell_type": "markdown",
   "id": "615b0990",
   "metadata": {
    "id": "615b0990"
   },
   "source": [
    "Now we can get the most relevant word for each recipe..."
   ]
  },
  {
   "cell_type": "code",
   "execution_count": 42,
   "id": "b12dfce4",
   "metadata": {
    "id": "b12dfce4",
    "outputId": "354edd53-0740-4cf0-8772-3ee1a845773b"
   },
   "outputs": [
    {
     "data": {
      "text/plain": [
       "Easter Leftover Sandwich                            easter\n",
       "Pasta with Pesto Cream Sauce                         basil\n",
       "Herb Roasted Pork Tenderloin with Preserves      preserves\n",
       "Chicken Florentine Pasta                         completed\n",
       "Perfect Iced Coffee                                   iced\n",
       "                                                  ...     \n",
       "Golden Potstickers                             potstickers\n",
       "Gougères                                              goug\n",
       "Parmesan Cheese Spread                              spread\n",
       "Mast-o-Khiar Yogurt Dip                              khiar\n",
       "Fennel Mushrooms                                    fennel\n",
       "Length: 1042, dtype: object"
      ]
     },
     "execution_count": 42,
     "metadata": {},
     "output_type": "execute_result"
    }
   ],
   "source": [
    "df.idxmax(axis=1) \n",
    "# col-wise: for each row, find the column with the largest value"
   ]
  },
  {
   "cell_type": "markdown",
   "id": "5f2c9bf5",
   "metadata": {
    "id": "5f2c9bf5"
   },
   "source": [
    "...and that mostly feels right! :)"
   ]
  },
  {
   "cell_type": "code",
   "execution_count": null,
   "id": "2804fe9c",
   "metadata": {},
   "outputs": [],
   "source": []
  }
 ],
 "metadata": {
  "colab": {
   "provenance": []
  },
  "kernelspec": {
   "display_name": "Python 3 (ipykernel)",
   "language": "python",
   "name": "python3"
  },
  "language_info": {
   "codemirror_mode": {
    "name": "ipython",
    "version": 3
   },
   "file_extension": ".py",
   "mimetype": "text/x-python",
   "name": "python",
   "nbconvert_exporter": "python",
   "pygments_lexer": "ipython3",
   "version": "3.9.5"
  }
 },
 "nbformat": 4,
 "nbformat_minor": 5
}
