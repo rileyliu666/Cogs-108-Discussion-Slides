{
 "cells": [
  {
   "cell_type": "markdown",
   "id": "99f64b78-4d58-40f3-94d8-9771a2365109",
   "metadata": {},
   "source": [
    "# D2 data wrangling"
   ]
  },
  {
   "cell_type": "markdown",
   "id": "fb8a5598-4e97-44d5-bb27-66d9341feb86",
   "metadata": {},
   "source": [
    "## due dates"
   ]
  },
  {
   "cell_type": "markdown",
   "id": "ebf0ba47-6524-4206-8108-2435d7737f29",
   "metadata": {},
   "source": [
    "- A1: this friday (April 19)\n",
    "- D2: next monday (April 22)\n",
    "- Q3: next monday (April 22)\n"
   ]
  },
  {
   "cell_type": "markdown",
   "id": "4e768bab-6b37-40f4-ab66-cebc72da450c",
   "metadata": {},
   "source": [
    "## code fix of D2"
   ]
  },
  {
   "cell_type": "markdown",
   "id": "73ed83f4-c00d-4894-9e36-31e75873520e",
   "metadata": {},
   "source": [
    "in the third code cell\n",
    "\n",
    "change `pd.set_option('precision', 2)` to `pd.set_option('display.precision', 2)`"
   ]
  },
  {
   "cell_type": "markdown",
   "id": "28a0151a-005f-4492-b8c8-0346bc830dbd",
   "metadata": {},
   "source": [
    "## data wrangling"
   ]
  },
  {
   "cell_type": "markdown",
   "id": "5f60a0cf-eb43-4fe8-ac3f-1983d9c165f5",
   "metadata": {},
   "source": [
    "Data wrangling deals with several functionalities:\n",
    "1. **Data exploration**: In this process, the data is studied, analyzed and understood by visualizing representations of data.\n",
    "2. **Dealing with missing values**: Most of the datasets having a vast amount of data contain missing values of NaN, they are needed to be taken care of by replacing them with mean, mode, the most frequent value of the column or simply by dropping the row having a NaN value.\n",
    "3. **Reshaping data**: In this process, data is manipulated according to the requirements, where new data can be added or pre-existing data can be modified.\n",
    "4. **Filtering data**: Some times datasets are comprised of unwanted rows or columns which are required to be removed or filtered "
   ]
  },
  {
   "cell_type": "markdown",
   "id": "7e5de8a9-f80d-4841-9f22-65d301d660a3",
   "metadata": {},
   "source": [
    "### pandas and numpy"
   ]
  },
  {
   "cell_type": "markdown",
   "id": "0a430100-7b9b-40de-bbc9-7e99bdbfeb08",
   "metadata": {},
   "source": [
    "| pandas    | numpy |\n",
    "| -------- | ------- |\n",
    "| When we have to work on Tabular data, we prefer the pandas module. | When we have to work on Numerical data, we prefer the NumPy module. |\n",
    "| Pandas have a 2D table object called DataFrame. | Numpy is capable of providing multi-dimensional arrays. |\n",
    "| The powerful tools of pandas are DataFrame and Series. | the powerful tool of NumPy is Arrays. | \n",
    "|  Pandas consume more memory. | Numpy is memory efficient. |\n",
    "| Indexing of the Pandas series is very slow as compared to Numpy arrays. | Indexing of Numpy arrays is very fast. |\n"
   ]
  },
  {
   "cell_type": "markdown",
   "id": "483509ad-1604-4667-8c8f-410e228f1a33",
   "metadata": {},
   "source": [
    "> https://www.geeksforgeeks.org/difference-between-pandas-vs-numpy/"
   ]
  },
  {
   "cell_type": "markdown",
   "id": "6cffe1ab-dd6b-4a27-9bf3-c6e9544f1eef",
   "metadata": {},
   "source": [
    "### pandas operations"
   ]
  },
  {
   "cell_type": "code",
   "execution_count": 1,
   "id": "71d45ae9-35c4-41c6-924f-d61332e91c0f",
   "metadata": {},
   "outputs": [],
   "source": [
    "import pandas as pd"
   ]
  },
  {
   "cell_type": "markdown",
   "id": "642cc02a-98b7-4766-9e56-30186d8a041d",
   "metadata": {},
   "source": [
    "read csv files into a pandas dataframe (df)"
   ]
  },
  {
   "cell_type": "code",
   "execution_count": 2,
   "id": "5aa34a80-fd66-469f-b106-4e4aac426160",
   "metadata": {},
   "outputs": [],
   "source": [
    "data = pd.read_csv('https://people.sc.fsu.edu/~jburkardt/data/csv/cities.csv')\n"
   ]
  },
  {
   "cell_type": "markdown",
   "id": "b3c29850-9973-405c-9279-4efca9cd2434",
   "metadata": {},
   "source": [
    "\n",
    "To explore the data frame:"
   ]
  },
  {
   "cell_type": "code",
   "execution_count": 3,
   "id": "daf00e7b-876d-4e5f-8901-60decf904fed",
   "metadata": {},
   "outputs": [
    {
     "data": {
      "text/html": [
       "<div>\n",
       "<style scoped>\n",
       "    .dataframe tbody tr th:only-of-type {\n",
       "        vertical-align: middle;\n",
       "    }\n",
       "\n",
       "    .dataframe tbody tr th {\n",
       "        vertical-align: top;\n",
       "    }\n",
       "\n",
       "    .dataframe thead th {\n",
       "        text-align: right;\n",
       "    }\n",
       "</style>\n",
       "<table border=\"1\" class=\"dataframe\">\n",
       "  <thead>\n",
       "    <tr style=\"text-align: right;\">\n",
       "      <th></th>\n",
       "      <th>LatD</th>\n",
       "      <th>\"LatM\"</th>\n",
       "      <th>\"LatS\"</th>\n",
       "      <th>\"NS\"</th>\n",
       "      <th>\"LonD\"</th>\n",
       "      <th>\"LonM\"</th>\n",
       "      <th>\"LonS\"</th>\n",
       "      <th>\"EW\"</th>\n",
       "      <th>\"City\"</th>\n",
       "      <th>\"State\"</th>\n",
       "    </tr>\n",
       "  </thead>\n",
       "  <tbody>\n",
       "    <tr>\n",
       "      <th>0</th>\n",
       "      <td>41</td>\n",
       "      <td>5</td>\n",
       "      <td>59</td>\n",
       "      <td>\"N\"</td>\n",
       "      <td>80</td>\n",
       "      <td>39</td>\n",
       "      <td>0</td>\n",
       "      <td>\"W\"</td>\n",
       "      <td>\"Youngstown\"</td>\n",
       "      <td>OH</td>\n",
       "    </tr>\n",
       "    <tr>\n",
       "      <th>1</th>\n",
       "      <td>42</td>\n",
       "      <td>52</td>\n",
       "      <td>48</td>\n",
       "      <td>\"N\"</td>\n",
       "      <td>97</td>\n",
       "      <td>23</td>\n",
       "      <td>23</td>\n",
       "      <td>\"W\"</td>\n",
       "      <td>\"Yankton\"</td>\n",
       "      <td>SD</td>\n",
       "    </tr>\n",
       "    <tr>\n",
       "      <th>2</th>\n",
       "      <td>46</td>\n",
       "      <td>35</td>\n",
       "      <td>59</td>\n",
       "      <td>\"N\"</td>\n",
       "      <td>120</td>\n",
       "      <td>30</td>\n",
       "      <td>36</td>\n",
       "      <td>\"W\"</td>\n",
       "      <td>\"Yakima\"</td>\n",
       "      <td>WA</td>\n",
       "    </tr>\n",
       "    <tr>\n",
       "      <th>3</th>\n",
       "      <td>42</td>\n",
       "      <td>16</td>\n",
       "      <td>12</td>\n",
       "      <td>\"N\"</td>\n",
       "      <td>71</td>\n",
       "      <td>48</td>\n",
       "      <td>0</td>\n",
       "      <td>\"W\"</td>\n",
       "      <td>\"Worcester\"</td>\n",
       "      <td>MA</td>\n",
       "    </tr>\n",
       "    <tr>\n",
       "      <th>4</th>\n",
       "      <td>43</td>\n",
       "      <td>37</td>\n",
       "      <td>48</td>\n",
       "      <td>\"N\"</td>\n",
       "      <td>89</td>\n",
       "      <td>46</td>\n",
       "      <td>11</td>\n",
       "      <td>\"W\"</td>\n",
       "      <td>\"Wisconsin Dells\"</td>\n",
       "      <td>WI</td>\n",
       "    </tr>\n",
       "  </tbody>\n",
       "</table>\n",
       "</div>"
      ],
      "text/plain": [
       "   LatD   \"LatM\"   \"LatS\"  \"NS\"   \"LonD\"   \"LonM\"   \"LonS\"  \"EW\"  \\\n",
       "0    41        5       59   \"N\"       80       39        0   \"W\"   \n",
       "1    42       52       48   \"N\"       97       23       23   \"W\"   \n",
       "2    46       35       59   \"N\"      120       30       36   \"W\"   \n",
       "3    42       16       12   \"N\"       71       48        0   \"W\"   \n",
       "4    43       37       48   \"N\"       89       46       11   \"W\"   \n",
       "\n",
       "               \"City\"  \"State\"  \n",
       "0        \"Youngstown\"       OH  \n",
       "1           \"Yankton\"       SD  \n",
       "2            \"Yakima\"       WA  \n",
       "3         \"Worcester\"       MA  \n",
       "4   \"Wisconsin Dells\"       WI  "
      ]
     },
     "execution_count": 3,
     "metadata": {},
     "output_type": "execute_result"
    }
   ],
   "source": [
    "data.head()"
   ]
  },
  {
   "cell_type": "code",
   "execution_count": 4,
   "id": "cd6f66b8-1531-46ab-85ae-5aec37ad9213",
   "metadata": {},
   "outputs": [
    {
     "data": {
      "text/html": [
       "<div>\n",
       "<style scoped>\n",
       "    .dataframe tbody tr th:only-of-type {\n",
       "        vertical-align: middle;\n",
       "    }\n",
       "\n",
       "    .dataframe tbody tr th {\n",
       "        vertical-align: top;\n",
       "    }\n",
       "\n",
       "    .dataframe thead th {\n",
       "        text-align: right;\n",
       "    }\n",
       "</style>\n",
       "<table border=\"1\" class=\"dataframe\">\n",
       "  <thead>\n",
       "    <tr style=\"text-align: right;\">\n",
       "      <th></th>\n",
       "      <th>LatD</th>\n",
       "      <th>\"LatM\"</th>\n",
       "      <th>\"LatS\"</th>\n",
       "      <th>\"LonD\"</th>\n",
       "      <th>\"LonM\"</th>\n",
       "      <th>\"LonS\"</th>\n",
       "    </tr>\n",
       "  </thead>\n",
       "  <tbody>\n",
       "    <tr>\n",
       "      <th>count</th>\n",
       "      <td>128.000000</td>\n",
       "      <td>128.000000</td>\n",
       "      <td>128.000000</td>\n",
       "      <td>128.000000</td>\n",
       "      <td>128.000000</td>\n",
       "      <td>128.000000</td>\n",
       "    </tr>\n",
       "    <tr>\n",
       "      <th>mean</th>\n",
       "      <td>38.820312</td>\n",
       "      <td>30.765625</td>\n",
       "      <td>27.492188</td>\n",
       "      <td>93.250000</td>\n",
       "      <td>27.742188</td>\n",
       "      <td>26.960938</td>\n",
       "    </tr>\n",
       "    <tr>\n",
       "      <th>std</th>\n",
       "      <td>5.200596</td>\n",
       "      <td>16.426158</td>\n",
       "      <td>18.977814</td>\n",
       "      <td>15.466499</td>\n",
       "      <td>16.927937</td>\n",
       "      <td>18.727807</td>\n",
       "    </tr>\n",
       "    <tr>\n",
       "      <th>min</th>\n",
       "      <td>26.000000</td>\n",
       "      <td>1.000000</td>\n",
       "      <td>0.000000</td>\n",
       "      <td>71.000000</td>\n",
       "      <td>0.000000</td>\n",
       "      <td>0.000000</td>\n",
       "    </tr>\n",
       "    <tr>\n",
       "      <th>25%</th>\n",
       "      <td>35.000000</td>\n",
       "      <td>16.000000</td>\n",
       "      <td>11.000000</td>\n",
       "      <td>80.000000</td>\n",
       "      <td>14.000000</td>\n",
       "      <td>11.000000</td>\n",
       "    </tr>\n",
       "    <tr>\n",
       "      <th>50%</th>\n",
       "      <td>39.000000</td>\n",
       "      <td>31.000000</td>\n",
       "      <td>24.000000</td>\n",
       "      <td>89.500000</td>\n",
       "      <td>26.500000</td>\n",
       "      <td>23.500000</td>\n",
       "    </tr>\n",
       "    <tr>\n",
       "      <th>75%</th>\n",
       "      <td>42.250000</td>\n",
       "      <td>45.000000</td>\n",
       "      <td>47.000000</td>\n",
       "      <td>103.250000</td>\n",
       "      <td>40.250000</td>\n",
       "      <td>47.000000</td>\n",
       "    </tr>\n",
       "    <tr>\n",
       "      <th>max</th>\n",
       "      <td>50.000000</td>\n",
       "      <td>59.000000</td>\n",
       "      <td>59.000000</td>\n",
       "      <td>123.000000</td>\n",
       "      <td>58.000000</td>\n",
       "      <td>59.000000</td>\n",
       "    </tr>\n",
       "  </tbody>\n",
       "</table>\n",
       "</div>"
      ],
      "text/plain": [
       "             LatD      \"LatM\"      \"LatS\"      \"LonD\"      \"LonM\"      \"LonS\"\n",
       "count  128.000000  128.000000  128.000000  128.000000  128.000000  128.000000\n",
       "mean    38.820312   30.765625   27.492188   93.250000   27.742188   26.960938\n",
       "std      5.200596   16.426158   18.977814   15.466499   16.927937   18.727807\n",
       "min     26.000000    1.000000    0.000000   71.000000    0.000000    0.000000\n",
       "25%     35.000000   16.000000   11.000000   80.000000   14.000000   11.000000\n",
       "50%     39.000000   31.000000   24.000000   89.500000   26.500000   23.500000\n",
       "75%     42.250000   45.000000   47.000000  103.250000   40.250000   47.000000\n",
       "max     50.000000   59.000000   59.000000  123.000000   58.000000   59.000000"
      ]
     },
     "execution_count": 4,
     "metadata": {},
     "output_type": "execute_result"
    }
   ],
   "source": [
    "data.describe()\n"
   ]
  },
  {
   "cell_type": "code",
   "execution_count": 5,
   "id": "f736e108-e4ad-4ba7-85c1-b33fbb38c123",
   "metadata": {},
   "outputs": [
    {
     "data": {
      "text/plain": [
       "(128, 10)"
      ]
     },
     "execution_count": 5,
     "metadata": {},
     "output_type": "execute_result"
    }
   ],
   "source": [
    "data.shape"
   ]
  },
  {
   "cell_type": "markdown",
   "id": "6ffccfba-30d0-476c-bc76-879e5a571377",
   "metadata": {},
   "source": [
    "----------------"
   ]
  },
  {
   "cell_type": "markdown",
   "id": "668bf1cb-6f50-4344-9f2b-b4b03a91e75b",
   "metadata": {},
   "source": [
    "locate data inside the dataframe:\n",
    "\n",
    "data.iloc ( \\<row selection\\> ), \\<column selection\\> )\n",
    "\n",
    "selection can be:  \n",
    "  - integer list of rows/cols: [0,1,2]          \n",
    "  -  slice of rows/cols: [4:7]\n",
    "  - single values: 1                   \n",
    "          "
   ]
  },
  {
   "cell_type": "code",
   "execution_count": 6,
   "id": "7ca66b86-e21e-4fa0-ba5c-3fe6cdce6915",
   "metadata": {},
   "outputs": [],
   "source": [
    "first_row = data.iloc[0] # first row of data frame \n",
    "\n",
    "second_row = data.iloc[1] # second row of data frame \n",
    "\n",
    "last_row = data.iloc[-1] # last row of data frame \n",
    "\n",
    "first_col = data.iloc[:,0] # first column of data frame\n",
    "\n",
    "second_col = data.iloc[:,1] # second column of data frame"
   ]
  },
  {
   "cell_type": "code",
   "execution_count": 7,
   "id": "5290f371-8e51-4369-81d6-d7952f3a9767",
   "metadata": {},
   "outputs": [
    {
     "data": {
      "text/plain": [
       "LatD                   41\n",
       " \"LatM\"                 5\n",
       " \"LatS\"                59\n",
       " \"NS\"                 \"N\"\n",
       " \"LonD\"                80\n",
       " \"LonM\"                39\n",
       " \"LonS\"                 0\n",
       " \"EW\"                 \"W\"\n",
       " \"City\"      \"Youngstown\"\n",
       " \"State\"               OH\n",
       "Name: 0, dtype: object"
      ]
     },
     "execution_count": 7,
     "metadata": {},
     "output_type": "execute_result"
    }
   ],
   "source": [
    "first_row"
   ]
  },
  {
   "cell_type": "markdown",
   "id": "94cdebe7-2ab8-4bae-958c-0ab301a632e3",
   "metadata": {},
   "source": [
    "---------------------------"
   ]
  },
  {
   "cell_type": "markdown",
   "id": "972c73f6-c5d3-4c00-861b-fe8110de125f",
   "metadata": {},
   "source": [
    "to get the column names of a dataframe:"
   ]
  },
  {
   "cell_type": "code",
   "execution_count": 8,
   "id": "505efffe-1004-4dba-af58-77133bac9c4a",
   "metadata": {},
   "outputs": [
    {
     "data": {
      "text/plain": [
       "['LatD',\n",
       " ' \"LatM\"',\n",
       " ' \"LatS\"',\n",
       " ' \"NS\"',\n",
       " ' \"LonD\"',\n",
       " ' \"LonM\"',\n",
       " ' \"LonS\"',\n",
       " ' \"EW\"',\n",
       " ' \"City\"',\n",
       " ' \"State\"']"
      ]
     },
     "execution_count": 8,
     "metadata": {},
     "output_type": "execute_result"
    }
   ],
   "source": [
    "list(data)"
   ]
  },
  {
   "cell_type": "markdown",
   "id": "8a1bbaec-4e03-4496-9247-90c1c5a530a3",
   "metadata": {},
   "source": [
    "to rename column names:"
   ]
  },
  {
   "cell_type": "code",
   "execution_count": 9,
   "id": "2d9044a9-7ced-48c0-800b-ba65417a9f87",
   "metadata": {},
   "outputs": [],
   "source": [
    "data.columns = [\n",
    "    'LatD',\n",
    "    'LatM',\n",
    "    'LatS',\n",
    "    'NS',\n",
    "    'LonD',\n",
    "    'LonM',\n",
    "    'LonS',\n",
    "    'EW',\n",
    "    'City',\n",
    "    'State'\n",
    "]"
   ]
  },
  {
   "cell_type": "code",
   "execution_count": 10,
   "id": "8ce95b85-dc91-4da5-b641-840382a10d10",
   "metadata": {},
   "outputs": [
    {
     "data": {
      "text/plain": [
       "['LatD', 'LatM', 'LatS', 'NS', 'LonD', 'LonM', 'LonS', 'EW', 'City', 'State']"
      ]
     },
     "execution_count": 10,
     "metadata": {},
     "output_type": "execute_result"
    }
   ],
   "source": [
    "list(data)"
   ]
  },
  {
   "cell_type": "markdown",
   "id": "de6b0e02-f0dd-40b4-b0d1-bb891a084382",
   "metadata": {},
   "source": [
    "are they the only way to get names of columns and rename them? try to find other ways!"
   ]
  },
  {
   "cell_type": "markdown",
   "id": "7cac243f-2d76-48cb-9227-38b58461e98c",
   "metadata": {},
   "source": [
    "### data cleaning"
   ]
  },
  {
   "cell_type": "markdown",
   "id": "5edcd631-d2a4-4d47-bf3f-70de8f2c31fb",
   "metadata": {},
   "source": [
    "`isnull()`\n",
    "\n",
    "syntax:\n",
    "- pd.isnull(dataframe)\n",
    "- dataframe.isnull()\n",
    "\n",
    "https://pandas.pydata.org/pandas-docs/stable/reference/api/pandas.isnull.html"
   ]
  },
  {
   "cell_type": "code",
   "execution_count": 11,
   "id": "2e10dc4f-d5db-453a-8e22-4f3ddab28736",
   "metadata": {},
   "outputs": [
    {
     "data": {
      "text/html": [
       "<div>\n",
       "<style scoped>\n",
       "    .dataframe tbody tr th:only-of-type {\n",
       "        vertical-align: middle;\n",
       "    }\n",
       "\n",
       "    .dataframe tbody tr th {\n",
       "        vertical-align: top;\n",
       "    }\n",
       "\n",
       "    .dataframe thead th {\n",
       "        text-align: right;\n",
       "    }\n",
       "</style>\n",
       "<table border=\"1\" class=\"dataframe\">\n",
       "  <thead>\n",
       "    <tr style=\"text-align: right;\">\n",
       "      <th></th>\n",
       "      <th>LatD</th>\n",
       "      <th>LatM</th>\n",
       "      <th>LatS</th>\n",
       "      <th>NS</th>\n",
       "      <th>LonD</th>\n",
       "      <th>LonM</th>\n",
       "      <th>LonS</th>\n",
       "      <th>EW</th>\n",
       "      <th>City</th>\n",
       "      <th>State</th>\n",
       "    </tr>\n",
       "  </thead>\n",
       "  <tbody>\n",
       "    <tr>\n",
       "      <th>0</th>\n",
       "      <td>False</td>\n",
       "      <td>False</td>\n",
       "      <td>False</td>\n",
       "      <td>False</td>\n",
       "      <td>False</td>\n",
       "      <td>False</td>\n",
       "      <td>False</td>\n",
       "      <td>False</td>\n",
       "      <td>False</td>\n",
       "      <td>False</td>\n",
       "    </tr>\n",
       "    <tr>\n",
       "      <th>1</th>\n",
       "      <td>False</td>\n",
       "      <td>False</td>\n",
       "      <td>False</td>\n",
       "      <td>False</td>\n",
       "      <td>False</td>\n",
       "      <td>False</td>\n",
       "      <td>False</td>\n",
       "      <td>False</td>\n",
       "      <td>False</td>\n",
       "      <td>False</td>\n",
       "    </tr>\n",
       "    <tr>\n",
       "      <th>2</th>\n",
       "      <td>False</td>\n",
       "      <td>False</td>\n",
       "      <td>False</td>\n",
       "      <td>False</td>\n",
       "      <td>False</td>\n",
       "      <td>False</td>\n",
       "      <td>False</td>\n",
       "      <td>False</td>\n",
       "      <td>False</td>\n",
       "      <td>False</td>\n",
       "    </tr>\n",
       "    <tr>\n",
       "      <th>3</th>\n",
       "      <td>False</td>\n",
       "      <td>False</td>\n",
       "      <td>False</td>\n",
       "      <td>False</td>\n",
       "      <td>False</td>\n",
       "      <td>False</td>\n",
       "      <td>False</td>\n",
       "      <td>False</td>\n",
       "      <td>False</td>\n",
       "      <td>False</td>\n",
       "    </tr>\n",
       "    <tr>\n",
       "      <th>4</th>\n",
       "      <td>False</td>\n",
       "      <td>False</td>\n",
       "      <td>False</td>\n",
       "      <td>False</td>\n",
       "      <td>False</td>\n",
       "      <td>False</td>\n",
       "      <td>False</td>\n",
       "      <td>False</td>\n",
       "      <td>False</td>\n",
       "      <td>False</td>\n",
       "    </tr>\n",
       "    <tr>\n",
       "      <th>...</th>\n",
       "      <td>...</td>\n",
       "      <td>...</td>\n",
       "      <td>...</td>\n",
       "      <td>...</td>\n",
       "      <td>...</td>\n",
       "      <td>...</td>\n",
       "      <td>...</td>\n",
       "      <td>...</td>\n",
       "      <td>...</td>\n",
       "      <td>...</td>\n",
       "    </tr>\n",
       "    <tr>\n",
       "      <th>123</th>\n",
       "      <td>False</td>\n",
       "      <td>False</td>\n",
       "      <td>False</td>\n",
       "      <td>False</td>\n",
       "      <td>False</td>\n",
       "      <td>False</td>\n",
       "      <td>False</td>\n",
       "      <td>False</td>\n",
       "      <td>False</td>\n",
       "      <td>False</td>\n",
       "    </tr>\n",
       "    <tr>\n",
       "      <th>124</th>\n",
       "      <td>False</td>\n",
       "      <td>False</td>\n",
       "      <td>False</td>\n",
       "      <td>False</td>\n",
       "      <td>False</td>\n",
       "      <td>False</td>\n",
       "      <td>False</td>\n",
       "      <td>False</td>\n",
       "      <td>False</td>\n",
       "      <td>False</td>\n",
       "    </tr>\n",
       "    <tr>\n",
       "      <th>125</th>\n",
       "      <td>False</td>\n",
       "      <td>False</td>\n",
       "      <td>False</td>\n",
       "      <td>False</td>\n",
       "      <td>False</td>\n",
       "      <td>False</td>\n",
       "      <td>False</td>\n",
       "      <td>False</td>\n",
       "      <td>False</td>\n",
       "      <td>False</td>\n",
       "    </tr>\n",
       "    <tr>\n",
       "      <th>126</th>\n",
       "      <td>False</td>\n",
       "      <td>False</td>\n",
       "      <td>False</td>\n",
       "      <td>False</td>\n",
       "      <td>False</td>\n",
       "      <td>False</td>\n",
       "      <td>False</td>\n",
       "      <td>False</td>\n",
       "      <td>False</td>\n",
       "      <td>False</td>\n",
       "    </tr>\n",
       "    <tr>\n",
       "      <th>127</th>\n",
       "      <td>False</td>\n",
       "      <td>False</td>\n",
       "      <td>False</td>\n",
       "      <td>False</td>\n",
       "      <td>False</td>\n",
       "      <td>False</td>\n",
       "      <td>False</td>\n",
       "      <td>False</td>\n",
       "      <td>False</td>\n",
       "      <td>False</td>\n",
       "    </tr>\n",
       "  </tbody>\n",
       "</table>\n",
       "<p>128 rows × 10 columns</p>\n",
       "</div>"
      ],
      "text/plain": [
       "      LatD   LatM   LatS     NS   LonD   LonM   LonS     EW   City  State\n",
       "0    False  False  False  False  False  False  False  False  False  False\n",
       "1    False  False  False  False  False  False  False  False  False  False\n",
       "2    False  False  False  False  False  False  False  False  False  False\n",
       "3    False  False  False  False  False  False  False  False  False  False\n",
       "4    False  False  False  False  False  False  False  False  False  False\n",
       "..     ...    ...    ...    ...    ...    ...    ...    ...    ...    ...\n",
       "123  False  False  False  False  False  False  False  False  False  False\n",
       "124  False  False  False  False  False  False  False  False  False  False\n",
       "125  False  False  False  False  False  False  False  False  False  False\n",
       "126  False  False  False  False  False  False  False  False  False  False\n",
       "127  False  False  False  False  False  False  False  False  False  False\n",
       "\n",
       "[128 rows x 10 columns]"
      ]
     },
     "execution_count": 11,
     "metadata": {},
     "output_type": "execute_result"
    }
   ],
   "source": [
    "data.isnull()"
   ]
  },
  {
   "cell_type": "code",
   "execution_count": 13,
   "id": "f7103bc0-8afa-4f1e-87cf-7842fc7b1fd3",
   "metadata": {},
   "outputs": [
    {
     "data": {
      "text/plain": [
       "0      False\n",
       "1      False\n",
       "2      False\n",
       "3      False\n",
       "4      False\n",
       "       ...  \n",
       "123    False\n",
       "124    False\n",
       "125    False\n",
       "126    False\n",
       "127    False\n",
       "Length: 128, dtype: bool"
      ]
     },
     "execution_count": 13,
     "metadata": {},
     "output_type": "execute_result"
    }
   ],
   "source": [
    "data.isnull().any(axis=1)"
   ]
  },
  {
   "cell_type": "code",
   "execution_count": 14,
   "id": "b9d43a35-6e43-4a76-9422-4f98414238ef",
   "metadata": {},
   "outputs": [
    {
     "data": {
      "text/plain": [
       "0"
      ]
     },
     "execution_count": 14,
     "metadata": {},
     "output_type": "execute_result"
    }
   ],
   "source": [
    "data.isnull().any(axis=1).sum()"
   ]
  },
  {
   "cell_type": "markdown",
   "id": "47760460-bce6-4f30-b18f-43c7a92ac4af",
   "metadata": {},
   "source": [
    "--------"
   ]
  },
  {
   "cell_type": "markdown",
   "id": "bf7ad042-9f7c-4e4b-9447-ecde5c4eaafb",
   "metadata": {},
   "source": [
    "`dropna()`\n",
    "\n",
    "to drop rows or columns with null values.\n",
    "\n",
    "\n",
    "Dropping rows and/or columns is generally useful if our data contains a large amount of null values; rows with missing values may not be valuable to us\n",
    "\n",
    "parameters:\n",
    "- axis: Determine if rows or columns which contain missing values are removed.\n",
    "- how: Determine if row or column is removed from DataFrame, when we have at least one NA or all NA.\n",
    "\n",
    "details: https://pandas.pydata.org/docs/reference/api/pandas.DataFrame.dropna.html"
   ]
  },
  {
   "cell_type": "code",
   "execution_count": 15,
   "id": "8b79b099-a9fd-4cd5-8fa9-2e8b682c2b0b",
   "metadata": {},
   "outputs": [],
   "source": [
    "# Drop the rows where all elements are missing.\n",
    "data = data.dropna(how='all')"
   ]
  },
  {
   "cell_type": "markdown",
   "id": "b59cd035-b17e-48cd-b1ae-76effede1430",
   "metadata": {},
   "source": [
    "-------"
   ]
  },
  {
   "cell_type": "markdown",
   "id": "6a033a86-858d-4303-a25c-d6fadfecb5a5",
   "metadata": {},
   "source": [
    "`fillna()`\n",
    "\n",
    "\n",
    "to fill null values in a dataframe.\n",
    "\n",
    "https://pandas.pydata.org/docs/reference/api/pandas.DataFrame.fillna.html"
   ]
  },
  {
   "cell_type": "code",
   "execution_count": 41,
   "id": "084b93c3-f85d-4354-9e73-3e872d9b7bfc",
   "metadata": {},
   "outputs": [],
   "source": [
    "# Example to fill value with 0s\n",
    "data = data.fillna(0)"
   ]
  },
  {
   "cell_type": "code",
   "execution_count": null,
   "id": "5d8f0d9e-1411-45d7-b965-f8edc9133104",
   "metadata": {},
   "outputs": [],
   "source": []
  }
 ],
 "metadata": {
  "kernelspec": {
   "display_name": "Python 3 (ipykernel)",
   "language": "python",
   "name": "python3"
  },
  "language_info": {
   "codemirror_mode": {
    "name": "ipython",
    "version": 3
   },
   "file_extension": ".py",
   "mimetype": "text/x-python",
   "name": "python",
   "nbconvert_exporter": "python",
   "pygments_lexer": "ipython3",
   "version": "3.9.5"
  }
 },
 "nbformat": 4,
 "nbformat_minor": 5
}
