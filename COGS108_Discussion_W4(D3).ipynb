{
 "cells": [
  {
   "cell_type": "markdown",
   "id": "f4729c8d",
   "metadata": {},
   "source": [
    "# COGS 108 Discussion Section W4"
   ]
  },
  {
   "cell_type": "markdown",
   "id": "3c0e9ab0",
   "metadata": {},
   "source": [
    "## DEADLINES\n",
    "\n",
    "\n",
    "DUE DATES\n",
    "\n",
    "- **Project Review** is due **this Friday**, Apr 26, 11:59PM\n",
    "\n",
    "- **Quiz 3** is due **next Monday**, Apr 29, 11:59PM\n",
    "\n",
    "- **Discussion lab 3** is due **next Monday**,  Apr 29, 11:59PM\n",
    "\n",
    "\n",
    "COMING UP\n",
    "\n",
    "- **Project Proposal** is due **next Friday**, May 3, 11:59PM (One submission per group)\n"
   ]
  },
  {
   "cell_type": "markdown",
   "id": "6920c17f",
   "metadata": {},
   "source": [
    "   ## D3: Data Visualization and Exploratory Data Analysis"
   ]
  },
  {
   "cell_type": "markdown",
   "id": "6773e2ab",
   "metadata": {},
   "source": [
    "### Visualization Libraries: Pyplot and Seaborn\n",
    "\n",
    "- `matplotlib` is a library for creating static, animated, and interactive visualizations in Python. Most of the Matplotlib utilities lies under the `pyplot` submodule, and are usually imported under the `plt` alias\n",
    "\n",
    "- `seaborn` is a Python data visualization library based on matplotlib. It provides a high-level interface for drawing attractive and informative statistical graphics. Alias : `sns`\n",
    "\n",
    "![Seaborn](https://miro.medium.com/v2/resize:fit:1400/format:webp/1*RYrbI_N1aF7-3U3QgmxGVw.png)\n"
   ]
  },
  {
   "cell_type": "code",
   "execution_count": 20,
   "id": "637a65f8",
   "metadata": {},
   "outputs": [],
   "source": [
    "import matplotlib.pyplot as plt\n",
    "import seaborn as sns"
   ]
  },
  {
   "cell_type": "markdown",
   "id": "a5ff06d1",
   "metadata": {},
   "source": [
    "### Data Structures: Pandas Series and Dataframes"
   ]
  },
  {
   "cell_type": "code",
   "execution_count": 21,
   "id": "64e1600a",
   "metadata": {},
   "outputs": [],
   "source": [
    "# importing pandas library\n",
    "import pandas as pd"
   ]
  },
  {
   "cell_type": "code",
   "execution_count": 22,
   "id": "e8e11213",
   "metadata": {},
   "outputs": [
    {
     "data": {
      "text/plain": [
       "0    Jitender\n",
       "1     Purnima\n",
       "2       Arpit\n",
       "3       Jyoti\n",
       "dtype: object"
      ]
     },
     "execution_count": 22,
     "metadata": {},
     "output_type": "execute_result"
    }
   ],
   "source": [
    "# creating pandas Series from list\n",
    "\n",
    "author = ['Jitender', 'Purnima', 'Arpit', 'Jyoti']\n",
    "\n",
    "auth_series = pd.Series(author)\n",
    "\n",
    "auth_series"
   ]
  },
  {
   "cell_type": "markdown",
   "id": "c299cf14",
   "metadata": {},
   "source": [
    "We have just created two lists ‘author’ and article’ which have been passed to `Series()` functions to create two Series. "
   ]
  },
  {
   "cell_type": "code",
   "execution_count": 23,
   "id": "fa6bd169",
   "metadata": {},
   "outputs": [
    {
     "data": {
      "text/html": [
       "<div>\n",
       "<style scoped>\n",
       "    .dataframe tbody tr th:only-of-type {\n",
       "        vertical-align: middle;\n",
       "    }\n",
       "\n",
       "    .dataframe tbody tr th {\n",
       "        vertical-align: top;\n",
       "    }\n",
       "\n",
       "    .dataframe thead th {\n",
       "        text-align: right;\n",
       "    }\n",
       "</style>\n",
       "<table border=\"1\" class=\"dataframe\">\n",
       "  <thead>\n",
       "    <tr style=\"text-align: right;\">\n",
       "      <th></th>\n",
       "      <th>Author</th>\n",
       "      <th>Article</th>\n",
       "    </tr>\n",
       "  </thead>\n",
       "  <tbody>\n",
       "    <tr>\n",
       "      <th>0</th>\n",
       "      <td>Jitender</td>\n",
       "      <td>210</td>\n",
       "    </tr>\n",
       "    <tr>\n",
       "      <th>1</th>\n",
       "      <td>Purnima</td>\n",
       "      <td>211</td>\n",
       "    </tr>\n",
       "    <tr>\n",
       "      <th>2</th>\n",
       "      <td>Arpit</td>\n",
       "      <td>114</td>\n",
       "    </tr>\n",
       "    <tr>\n",
       "      <th>3</th>\n",
       "      <td>Jyoti</td>\n",
       "      <td>178</td>\n",
       "    </tr>\n",
       "  </tbody>\n",
       "</table>\n",
       "</div>"
      ],
      "text/plain": [
       "     Author  Article\n",
       "0  Jitender      210\n",
       "1   Purnima      211\n",
       "2     Arpit      114\n",
       "3     Jyoti      178"
      ]
     },
     "execution_count": 23,
     "metadata": {},
     "output_type": "execute_result"
    }
   ],
   "source": [
    "author = ['Jitender', 'Purnima', 'Arpit', 'Jyoti']\n",
    "article = [210, 211, 114, 178]\n",
    "\n",
    "auth_series = pd.Series(author)\n",
    "article_series = pd.Series(article)\n",
    "\n",
    "frame = {'Author': auth_series, 'Article': article_series}\n",
    "\n",
    "result = pd.DataFrame(frame)\n",
    "\n",
    "result"
   ]
  },
  {
   "cell_type": "markdown",
   "id": "04b38261",
   "metadata": {},
   "source": [
    "After creating Series, we have created a dictionary and passed Series objects as values of the dictionary and keys of the dictionary will be served as columns of the dataframe."
   ]
  },
  {
   "cell_type": "markdown",
   "id": "1beff49b",
   "metadata": {},
   "source": [
    "### Analysis techniques\n",
    "\n",
    "#### 1. value_counts()\n",
    "\n",
    "`df['your_column'].value_count()`: returns the count of unique occurences in the specific column\n",
    "\n",
    "Notes:\n",
    "- `value_counts()` only works on pandas series, NOT dataframes (i.e. we can only do it for a single column)\n",
    "- optional parameters include:\n",
    "    - `normalize` (bool, default False)\n",
    "    - `sort` (bool, default True): sort by frequency\n",
    "    - `ascending` (bool, default False)\n",
    "    - `bins` (int, optional): rather than count values, group them into half-open bins (only works with numerical data)\n",
    "    - `dropna` (bool, default True)`"
   ]
  },
  {
   "cell_type": "code",
   "execution_count": 24,
   "id": "4df32707",
   "metadata": {},
   "outputs": [],
   "source": [
    "# we will use an example dataset from the seaborn library\n",
    "df = sns.load_dataset('tips')"
   ]
  },
  {
   "cell_type": "code",
   "execution_count": 25,
   "id": "975a3804",
   "metadata": {},
   "outputs": [
    {
     "data": {
      "text/html": [
       "<div>\n",
       "<style scoped>\n",
       "    .dataframe tbody tr th:only-of-type {\n",
       "        vertical-align: middle;\n",
       "    }\n",
       "\n",
       "    .dataframe tbody tr th {\n",
       "        vertical-align: top;\n",
       "    }\n",
       "\n",
       "    .dataframe thead th {\n",
       "        text-align: right;\n",
       "    }\n",
       "</style>\n",
       "<table border=\"1\" class=\"dataframe\">\n",
       "  <thead>\n",
       "    <tr style=\"text-align: right;\">\n",
       "      <th></th>\n",
       "      <th>total_bill</th>\n",
       "      <th>tip</th>\n",
       "      <th>sex</th>\n",
       "      <th>smoker</th>\n",
       "      <th>day</th>\n",
       "      <th>time</th>\n",
       "      <th>size</th>\n",
       "    </tr>\n",
       "  </thead>\n",
       "  <tbody>\n",
       "    <tr>\n",
       "      <th>0</th>\n",
       "      <td>16.99</td>\n",
       "      <td>1.01</td>\n",
       "      <td>Female</td>\n",
       "      <td>No</td>\n",
       "      <td>Sun</td>\n",
       "      <td>Dinner</td>\n",
       "      <td>2</td>\n",
       "    </tr>\n",
       "    <tr>\n",
       "      <th>1</th>\n",
       "      <td>10.34</td>\n",
       "      <td>1.66</td>\n",
       "      <td>Male</td>\n",
       "      <td>No</td>\n",
       "      <td>Sun</td>\n",
       "      <td>Dinner</td>\n",
       "      <td>3</td>\n",
       "    </tr>\n",
       "    <tr>\n",
       "      <th>2</th>\n",
       "      <td>21.01</td>\n",
       "      <td>3.50</td>\n",
       "      <td>Male</td>\n",
       "      <td>No</td>\n",
       "      <td>Sun</td>\n",
       "      <td>Dinner</td>\n",
       "      <td>3</td>\n",
       "    </tr>\n",
       "    <tr>\n",
       "      <th>3</th>\n",
       "      <td>23.68</td>\n",
       "      <td>3.31</td>\n",
       "      <td>Male</td>\n",
       "      <td>No</td>\n",
       "      <td>Sun</td>\n",
       "      <td>Dinner</td>\n",
       "      <td>2</td>\n",
       "    </tr>\n",
       "    <tr>\n",
       "      <th>4</th>\n",
       "      <td>24.59</td>\n",
       "      <td>3.61</td>\n",
       "      <td>Female</td>\n",
       "      <td>No</td>\n",
       "      <td>Sun</td>\n",
       "      <td>Dinner</td>\n",
       "      <td>4</td>\n",
       "    </tr>\n",
       "  </tbody>\n",
       "</table>\n",
       "</div>"
      ],
      "text/plain": [
       "   total_bill   tip     sex smoker  day    time  size\n",
       "0       16.99  1.01  Female     No  Sun  Dinner     2\n",
       "1       10.34  1.66    Male     No  Sun  Dinner     3\n",
       "2       21.01  3.50    Male     No  Sun  Dinner     3\n",
       "3       23.68  3.31    Male     No  Sun  Dinner     2\n",
       "4       24.59  3.61  Female     No  Sun  Dinner     4"
      ]
     },
     "execution_count": 25,
     "metadata": {},
     "output_type": "execute_result"
    }
   ],
   "source": [
    "df.head()"
   ]
  },
  {
   "cell_type": "code",
   "execution_count": 26,
   "id": "a5098065",
   "metadata": {},
   "outputs": [
    {
     "data": {
      "text/plain": [
       "sex\n",
       "Male      157\n",
       "Female     87\n",
       "Name: count, dtype: int64"
      ]
     },
     "execution_count": 26,
     "metadata": {},
     "output_type": "execute_result"
    }
   ],
   "source": [
    "df['sex'].value_counts()"
   ]
  },
  {
   "cell_type": "code",
   "execution_count": 27,
   "id": "13a3e6f8",
   "metadata": {},
   "outputs": [
    {
     "data": {
      "text/plain": [
       "size\n",
       "2    156\n",
       "3     38\n",
       "4     37\n",
       "5      5\n",
       "1      4\n",
       "6      4\n",
       "Name: count, dtype: int64"
      ]
     },
     "execution_count": 27,
     "metadata": {},
     "output_type": "execute_result"
    }
   ],
   "source": [
    "df['size'].value_counts() # index: all unique items that occured; value: the frequency"
   ]
  },
  {
   "cell_type": "code",
   "execution_count": 28,
   "id": "96df5882",
   "metadata": {},
   "outputs": [
    {
     "data": {
      "text/plain": [
       "Index([2, 3, 4, 5, 1, 6], dtype='int64', name='size')"
      ]
     },
     "execution_count": 28,
     "metadata": {},
     "output_type": "execute_result"
    }
   ],
   "source": [
    "df['size'].value_counts().index"
   ]
  },
  {
   "cell_type": "markdown",
   "id": "ddb6d15f",
   "metadata": {},
   "source": [
    "#### 2. Seaborn countplot()"
   ]
  },
  {
   "cell_type": "code",
   "execution_count": 30,
   "id": "c7b3446f",
   "metadata": {},
   "outputs": [
    {
     "data": {
      "text/plain": [
       "<AxesSubplot:xlabel='sex', ylabel='count'>"
      ]
     },
     "execution_count": 30,
     "metadata": {},
     "output_type": "execute_result"
    },
    {
     "data": {
      "image/png": "[encoded data removed]",
      "text/plain": [
       "<Figure size 432x288 with 1 Axes>"
      ]
     },
     "metadata": {
      "needs_background": "light"
     },
     "output_type": "display_data"
    }
   ],
   "source": [
    "sns.countplot(x = 'sex',\n",
    "              # y = ,\n",
    "              hue = 'time',\n",
    "             data = df)"
   ]
  },
  {
   "cell_type": "markdown",
   "id": "ebc90e45",
   "metadata": {},
   "source": [
    "#### 3. Separately apply functions with pd.groupby(..)"
   ]
  },
  {
   "cell_type": "markdown",
   "id": "5a574e46",
   "metadata": {},
   "source": [
    "If we want to plot **proportions** in the y-axis instead of counts, we can create a new dataframe to store the proportions for each category.\n",
    "\n",
    "We need to create a dataframe with three columns: one for sex, one for time, and one for proportion of respondent who worked for dinner within each sex.\n",
    "\n",
    "Idea:\n",
    "- use `df.groupby(...)` to separately apply an operation to each of the groups in the specific categoy"
   ]
  },
  {
   "cell_type": "code",
   "execution_count": 40,
   "id": "8bf95c18",
   "metadata": {},
   "outputs": [
    {
     "name": "stderr",
     "output_type": "stream",
     "text": [
      "/tmp/ipykernel_108/3614212764.py:2: FutureWarning: The default of observed=False is deprecated and will be changed to True in a future version of pandas. Pass observed=False to retain current behavior or observed=True to adopt the future default and silence this warning.\n",
      "  df.groupby('sex')['size'].mean()\n"
     ]
    },
    {
     "data": {
      "text/plain": [
       "sex\n",
       "Male      2.630573\n",
       "Female    2.459770\n",
       "Name: size, dtype: float64"
      ]
     },
     "execution_count": 40,
     "metadata": {},
     "output_type": "execute_result"
    }
   ],
   "source": [
    "# for each group in 'sex', compute the mean\n",
    "df.groupby('sex')['size'].mean()"
   ]
  },
  {
   "cell_type": "code",
   "execution_count": 42,
   "id": "0a2508ea",
   "metadata": {},
   "outputs": [],
   "source": [
    "# Try it on your own by completing the code\n",
    "\n",
    "#prop_df = (df.groupby(...)['time']\n",
    "#        .value_counts(normalize=True)\n",
    "#        .rename(...)\n",
    "#        .reset_index())"
   ]
  },
  {
   "cell_type": "code",
   "execution_count": null,
   "id": "221f3e5e",
   "metadata": {},
   "outputs": [],
   "source": []
  }
 ],
 "metadata": {
  "kernelspec": {
   "display_name": "Python 3 (clean)",
   "language": "python",
   "name": "python3_clean"
  },
  "language_info": {
   "codemirror_mode": {
    "name": "ipython",
    "version": 3
   },
   "file_extension": ".py",
   "mimetype": "text/x-python",
   "name": "python",
   "nbconvert_exporter": "python",
   "pygments_lexer": "ipython3",
   "version": "3.9.5"
  }
 },
 "nbformat": 4,
 "nbformat_minor": 5
}
